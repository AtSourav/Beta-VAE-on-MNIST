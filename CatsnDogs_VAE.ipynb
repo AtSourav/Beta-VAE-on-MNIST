{
  "nbformat": 4,
  "nbformat_minor": 0,
  "metadata": {
    "colab": {
      "provenance": [],
      "authorship_tag": "ABX9TyPzWhuexCTGYzcBvxc5Yg/f",
      "include_colab_link": true
    },
    "kernelspec": {
      "name": "python3",
      "display_name": "Python 3"
    },
    "language_info": {
      "name": "python"
    }
  },
  "cells": [
    {
      "cell_type": "markdown",
      "metadata": {
        "id": "view-in-github",
        "colab_type": "text"
      },
      "source": [
        "<a href=\"https://colab.research.google.com/github/AtSourav/CatsnDogs_VAE/blob/main/CatsnDogs_VAE.ipynb\" target=\"_parent\"><img src=\"https://colab.research.google.com/assets/colab-badge.svg\" alt=\"Open In Colab\"/></a>"
      ]
    },
    {
      "cell_type": "markdown",
      "source": [
        "We're going to build a VAE in keras with the encoder and decoder based on CNNs."
      ],
      "metadata": {
        "id": "4ur1bU8y1uHM"
      }
    },
    {
      "cell_type": "code",
      "execution_count": 11,
      "metadata": {
        "id": "uoG7iO2skKtn"
      },
      "outputs": [],
      "source": [
        "import numpy as np\n",
        "import tensorflow as tf\n",
        "from tensorflow import keras\n",
        "from keras import losses\n",
        "from keras import layers"
      ]
    },
    {
      "cell_type": "code",
      "source": [
        "input_size = (160,160,3)\n",
        "batch_size = 256\n",
        "latent_dim = 16"
      ],
      "metadata": {
        "id": "Rc8U_BGj2L9P"
      },
      "execution_count": 7,
      "outputs": []
    },
    {
      "cell_type": "code",
      "source": [
        "encoder_input = keras.Input(shape=input_size)\n",
        "\n",
        "x = layers.Conv2D(16, 3, padding=\"valid\")(encoder_input)\n",
        "x = layers.MaxPooling2D(pool_size=(2, 2), strides=None, padding=\"valid\")(x)    # with strides=None this defaults to pool_size\n",
        "x = layers.BatchNormalization(axis=-1)(x) # the default data_format in the conv2d is \"channels last\", we want to normalize across the channels, hence we set axis=-1\n",
        "x = layers.LeakyReLU()(x)\n",
        "\n",
        "x = layers.Conv2D(32, 3, padding=\"valid\")(x)\n",
        "x = layers.MaxPooling2D(pool_size=(2, 2), strides=None, padding=\"valid\")(x)\n",
        "x = layers.BatchNormalization(axis=-1)(x)\n",
        "x = layers.LeakyReLU()(x)\n",
        "\n",
        "x = layers.Conv2D(64, 3, padding=\"valid\")(x)\n",
        "x = layers.MaxPooling2D(pool_size=(2, 2), strides=None, padding=\"valid\")(x)\n",
        "x = layers.BatchNormalization(axis=-1)(x)\n",
        "x = layers.LeakyReLU()(x)\n",
        "\n",
        "x = layers.Conv2D(128, 3, padding=\"valid\")(x)\n",
        "x = layers.MaxPooling2D(pool_size=(2, 2), strides=None, padding=\"valid\")(x)\n",
        "x = layers.BatchNormalization(axis=-1)(x)\n",
        "x = layers.LeakyReLU()(x)\n",
        "\n",
        "x = layers.Flatten()(x)       # dimension of vector produced 8*8*256\n",
        "\n",
        "# we won't add any extra dense layers for now\n",
        "\n",
        "z_mean = layers.Dense(latent_dim, name=\"z_mean\")(x)\n",
        "z_log_var = layers.Dense(latent_dim, name=\"z_log_var\")(x)\n",
        "\n",
        "def sampling(arg):\n",
        "  z_m, z_log_v = arg\n",
        "  batch = tf.shape(z_m)[0]\n",
        "  dim = tf.shape(z_m)[1]\n",
        "  eps = tf.random.normal(shape=(batch,dim))\n",
        "  return z_m + tf.exp(0.5*z_log_v)*eps\n",
        "\n",
        "z = layers.Lambda(sampling)([z_mean,z_log_var])   # we feed the sampling function in to a Lambda layer to build form a layer for the architecture as keras needs\n",
        "\n",
        "encoder = keras.Model(encoder_input, [z_mean, z_log_var, z], name='encoder')           # the second argument specifies that the encoder outputs [z_mean, z_log_var, z] for each input.\n",
        "encoder.summary()"
      ],
      "metadata": {
        "colab": {
          "base_uri": "https://localhost:8080/"
        },
        "id": "RaWmRig39WZE",
        "outputId": "b3c5f335-0fb1-44ff-fa7c-f947fe3dc653"
      },
      "execution_count": 8,
      "outputs": [
        {
          "output_type": "stream",
          "name": "stdout",
          "text": [
            "Model: \"encoder\"\n",
            "__________________________________________________________________________________________________\n",
            " Layer (type)                   Output Shape         Param #     Connected to                     \n",
            "==================================================================================================\n",
            " input_3 (InputLayer)           [(None, 160, 160, 3  0           []                               \n",
            "                                )]                                                                \n",
            "                                                                                                  \n",
            " conv2d_4 (Conv2D)              (None, 158, 158, 16  448         ['input_3[0][0]']                \n",
            "                                )                                                                 \n",
            "                                                                                                  \n",
            " max_pooling2d_4 (MaxPooling2D)  (None, 79, 79, 16)  0           ['conv2d_4[0][0]']               \n",
            "                                                                                                  \n",
            " batch_normalization_7 (BatchNo  (None, 79, 79, 16)  64          ['max_pooling2d_4[0][0]']        \n",
            " rmalization)                                                                                     \n",
            "                                                                                                  \n",
            " leaky_re_lu_8 (LeakyReLU)      (None, 79, 79, 16)   0           ['batch_normalization_7[0][0]']  \n",
            "                                                                                                  \n",
            " conv2d_5 (Conv2D)              (None, 77, 77, 32)   4640        ['leaky_re_lu_8[0][0]']          \n",
            "                                                                                                  \n",
            " max_pooling2d_5 (MaxPooling2D)  (None, 38, 38, 32)  0           ['conv2d_5[0][0]']               \n",
            "                                                                                                  \n",
            " batch_normalization_8 (BatchNo  (None, 38, 38, 32)  128         ['max_pooling2d_5[0][0]']        \n",
            " rmalization)                                                                                     \n",
            "                                                                                                  \n",
            " leaky_re_lu_9 (LeakyReLU)      (None, 38, 38, 32)   0           ['batch_normalization_8[0][0]']  \n",
            "                                                                                                  \n",
            " conv2d_6 (Conv2D)              (None, 36, 36, 64)   18496       ['leaky_re_lu_9[0][0]']          \n",
            "                                                                                                  \n",
            " max_pooling2d_6 (MaxPooling2D)  (None, 18, 18, 64)  0           ['conv2d_6[0][0]']               \n",
            "                                                                                                  \n",
            " batch_normalization_9 (BatchNo  (None, 18, 18, 64)  256         ['max_pooling2d_6[0][0]']        \n",
            " rmalization)                                                                                     \n",
            "                                                                                                  \n",
            " leaky_re_lu_10 (LeakyReLU)     (None, 18, 18, 64)   0           ['batch_normalization_9[0][0]']  \n",
            "                                                                                                  \n",
            " conv2d_7 (Conv2D)              (None, 16, 16, 128)  73856       ['leaky_re_lu_10[0][0]']         \n",
            "                                                                                                  \n",
            " max_pooling2d_7 (MaxPooling2D)  (None, 8, 8, 128)   0           ['conv2d_7[0][0]']               \n",
            "                                                                                                  \n",
            " batch_normalization_10 (BatchN  (None, 8, 8, 128)   512         ['max_pooling2d_7[0][0]']        \n",
            " ormalization)                                                                                    \n",
            "                                                                                                  \n",
            " leaky_re_lu_11 (LeakyReLU)     (None, 8, 8, 128)    0           ['batch_normalization_10[0][0]'] \n",
            "                                                                                                  \n",
            " flatten_1 (Flatten)            (None, 8192)         0           ['leaky_re_lu_11[0][0]']         \n",
            "                                                                                                  \n",
            " z_mean (Dense)                 (None, 16)           131088      ['flatten_1[0][0]']              \n",
            "                                                                                                  \n",
            " z_log_var (Dense)              (None, 16)           131088      ['flatten_1[0][0]']              \n",
            "                                                                                                  \n",
            " lambda_1 (Lambda)              (None, 16)           0           ['z_mean[0][0]',                 \n",
            "                                                                  'z_log_var[0][0]']              \n",
            "                                                                                                  \n",
            "==================================================================================================\n",
            "Total params: 360,576\n",
            "Trainable params: 360,096\n",
            "Non-trainable params: 480\n",
            "__________________________________________________________________________________________________\n"
          ]
        }
      ]
    },
    {
      "cell_type": "markdown",
      "source": [
        "The number of trainable parameters might just be too big for the dataset, possibility of overtraining, we'll see how it goes. Let's make the decoder now."
      ],
      "metadata": {
        "id": "d7reegoIckKu"
      }
    },
    {
      "cell_type": "code",
      "source": [
        "latent_input = keras.Input(shape=(latent_dim,))\n",
        "\n",
        "x = layers.Dense(10*10*128)(latent_input)\n",
        "x = layers.LeakyReLU()(x)\n",
        "x = layers.Reshape((10,10,128))(x)\n",
        "\n",
        "x = layers.Conv2DTranspose(64, 3, strides=2, padding='same')(x)\n",
        "x = layers.BatchNormalization()(x)\n",
        "x = layers.LeakyReLU()(x)\n",
        "                                                        # axis=-1 is set by default\n",
        "x = layers.Conv2DTranspose(32, 3, strides=2, padding='same')(x)\n",
        "x = layers.BatchNormalization()(x)\n",
        "x = layers.LeakyReLU()(x)\n",
        "\n",
        "x = layers.Conv2DTranspose(16, 3, strides=2, padding='same')(x)\n",
        "x = layers.BatchNormalization()(x)\n",
        "x = layers.LeakyReLU()(x)\n",
        "\n",
        "decoder_output = layers.Conv2DTranspose(3, 3, activation='sigmoid', strides=2, padding='same')(x)\n",
        "\n",
        "decoder = keras.Model(latent_input, decoder_output, name=\"decoder\")\n",
        "decoder.summary()"
      ],
      "metadata": {
        "id": "60HAUzK8as95",
        "colab": {
          "base_uri": "https://localhost:8080/"
        },
        "outputId": "01b27797-d8eb-445b-ff20-4c680da576f2"
      },
      "execution_count": 9,
      "outputs": [
        {
          "output_type": "stream",
          "name": "stdout",
          "text": [
            "Model: \"decoder\"\n",
            "_________________________________________________________________\n",
            " Layer (type)                Output Shape              Param #   \n",
            "=================================================================\n",
            " input_4 (InputLayer)        [(None, 16)]              0         \n",
            "                                                                 \n",
            " dense_1 (Dense)             (None, 12800)             217600    \n",
            "                                                                 \n",
            " leaky_re_lu_12 (LeakyReLU)  (None, 12800)             0         \n",
            "                                                                 \n",
            " reshape_1 (Reshape)         (None, 10, 10, 128)       0         \n",
            "                                                                 \n",
            " conv2d_transpose_4 (Conv2DT  (None, 20, 20, 64)       73792     \n",
            " ranspose)                                                       \n",
            "                                                                 \n",
            " batch_normalization_11 (Bat  (None, 20, 20, 64)       256       \n",
            " chNormalization)                                                \n",
            "                                                                 \n",
            " leaky_re_lu_13 (LeakyReLU)  (None, 20, 20, 64)        0         \n",
            "                                                                 \n",
            " conv2d_transpose_5 (Conv2DT  (None, 40, 40, 32)       18464     \n",
            " ranspose)                                                       \n",
            "                                                                 \n",
            " batch_normalization_12 (Bat  (None, 40, 40, 32)       128       \n",
            " chNormalization)                                                \n",
            "                                                                 \n",
            " leaky_re_lu_14 (LeakyReLU)  (None, 40, 40, 32)        0         \n",
            "                                                                 \n",
            " conv2d_transpose_6 (Conv2DT  (None, 80, 80, 16)       4624      \n",
            " ranspose)                                                       \n",
            "                                                                 \n",
            " batch_normalization_13 (Bat  (None, 80, 80, 16)       64        \n",
            " chNormalization)                                                \n",
            "                                                                 \n",
            " leaky_re_lu_15 (LeakyReLU)  (None, 80, 80, 16)        0         \n",
            "                                                                 \n",
            " conv2d_transpose_7 (Conv2DT  (None, 160, 160, 3)      435       \n",
            " ranspose)                                                       \n",
            "                                                                 \n",
            "=================================================================\n",
            "Total params: 315,363\n",
            "Trainable params: 315,139\n",
            "Non-trainable params: 224\n",
            "_________________________________________________________________\n"
          ]
        }
      ]
    },
    {
      "cell_type": "markdown",
      "source": [
        "Now let's instantiate the VAE by combininb the encoder and the decoder layers."
      ],
      "metadata": {
        "id": "KIIDWhu9NOTv"
      }
    },
    {
      "cell_type": "code",
      "source": [
        "decoder_out = decoder(encoder(encoder_input)[2])          # we feed in z from the encoder output\n",
        "VAE = keras.Model(encoder_input, decoder_out, name='VAE')\n",
        "\n",
        "VAE.summary()"
      ],
      "metadata": {
        "colab": {
          "base_uri": "https://localhost:8080/"
        },
        "id": "jek1XQ2oNUnb",
        "outputId": "c616a6fa-ef59-42f9-95f2-e3751fa16757"
      },
      "execution_count": 10,
      "outputs": [
        {
          "output_type": "stream",
          "name": "stdout",
          "text": [
            "Model: \"VAE\"\n",
            "_________________________________________________________________\n",
            " Layer (type)                Output Shape              Param #   \n",
            "=================================================================\n",
            " input_3 (InputLayer)        [(None, 160, 160, 3)]     0         \n",
            "                                                                 \n",
            " encoder (Functional)        [(None, 16),              360576    \n",
            "                              (None, 16),                        \n",
            "                              (None, 16)]                        \n",
            "                                                                 \n",
            " decoder (Functional)        (None, 160, 160, 3)       315363    \n",
            "                                                                 \n",
            "=================================================================\n",
            "Total params: 675,939\n",
            "Trainable params: 675,235\n",
            "Non-trainable params: 704\n",
            "_________________________________________________________________\n"
          ]
        }
      ]
    },
    {
      "cell_type": "markdown",
      "source": [
        "We shall define the loss function now, it's made of the reconstruction loss that tries to ensure repoducibility of the data, and the KL divergence loss that tries to ensure that the learned (approximate) posterior is close to the true posterior. Since we have continuous values for the pixels, we cannot use the Bernoulli log loss (binary cross entropy) for the reconstruction loss, we shall use mean squared error. In a different version, we shall try to implement a continuous version of the Bernoulli log loss based on 1907.06845.\n",
        "\n",
        "We shall keep a relative weight beta between the two terms in the total loss as a hyperparameter. We may want to investigate the effects of varying this hyperparameter eventually."
      ],
      "metadata": {
        "id": "uD87axE7vwtm"
      }
    },
    {
      "cell_type": "markdown",
      "source": [
        "The custom loss function needs to be a callable of the form fn(true, pred) to be compatible with Model.compile() and Model.fit(). The reconstruction loss will calculate the mse between the true and predicted images directly. The kl divergence loss is a function of z_mean and z_log_var that will be used directly from the values while evaluating the forward pass. For further details, look up the source code for the compile() and fit() methods in the Model class, and also for train_step(), compute_loss(), and make_train_function()"
      ],
      "metadata": {
        "id": "5J7SuZUsK8mn"
      }
    },
    {
      "cell_type": "code",
      "source": [
        "beta = 1  # we shall vary this later\n",
        "\n",
        "def vae_loss(true,pred):\n",
        "  mse = losses.MeanSquaredError()\n",
        "  reconstruction_loss = (160*160*3)*mse(layers.flatten(true),layers.flatten(pred)).numpy()    # the input and the output for the model, which are 160*160*3 images will be taken as true and pred, respectively.\n",
        "\n",
        "  kl_div = tf.reduce_sum(-0.5*(1 + z_log_var - tf.square(z_mean) - tf.exp(z_log_var)), 1)     # summing along the columns, if we chose to take mean instead of sum at this step, we shouldn't multiply with the dimensions for the reconstruction loss.\n",
        "\n",
        "  return reconstruction_loss + beta*kl_div"
      ],
      "metadata": {
        "id": "CmLqVmtnMj1-"
      },
      "execution_count": 13,
      "outputs": []
    },
    {
      "cell_type": "code",
      "source": [
        "VAE.compile(optimizer='adam',loss=vae_loss)"
      ],
      "metadata": {
        "id": "CgbuzdhsUJ6w"
      },
      "execution_count": 14,
      "outputs": []
    },
    {
      "cell_type": "markdown",
      "source": [
        "Now we want to load our dataset, and train the VAE on it. We shall use the cats and dogs img dataset from this [repo](https://github.com/AtSourav/CatsnDogs_VAE.git)"
      ],
      "metadata": {
        "id": "EABBdq9_V0rW"
      }
    },
    {
      "cell_type": "code",
      "source": [
        "! git clone https://github.com/AtSourav/CatsnDogs_img_dataset.git"
      ],
      "metadata": {
        "colab": {
          "base_uri": "https://localhost:8080/"
        },
        "id": "LbddDD4WVYQi",
        "outputId": "a5927939-09fb-4333-dde5-bcd2e28c7c04"
      },
      "execution_count": 17,
      "outputs": [
        {
          "output_type": "stream",
          "name": "stdout",
          "text": [
            "Cloning into 'CatsnDogs_img_dataset'...\n",
            "remote: Enumerating objects: 5745, done.\u001b[K\n",
            "remote: Counting objects: 100% (6/6), done.\u001b[K\n",
            "remote: Compressing objects: 100% (6/6), done.\u001b[K\n",
            "remote: Total 5745 (delta 1), reused 0 (delta 0), pack-reused 5739\u001b[K\n",
            "Receiving objects: 100% (5745/5745), 44.62 MiB | 34.64 MiB/s, done.\n",
            "Resolving deltas: 100% (1/1), done.\n"
          ]
        }
      ]
    },
    {
      "cell_type": "code",
      "source": [
        "!ls"
      ],
      "metadata": {
        "colab": {
          "base_uri": "https://localhost:8080/"
        },
        "id": "_p3yYNpydIoU",
        "outputId": "3a088beb-f88c-4d7b-dfb7-b7627367ef4e"
      },
      "execution_count": 18,
      "outputs": [
        {
          "output_type": "stream",
          "name": "stdout",
          "text": [
            "CatsnDogs_img_dataset  sample_data\n"
          ]
        }
      ]
    },
    {
      "cell_type": "markdown",
      "source": [
        "We have cloned the repo with the dataset here so we can access it directly."
      ],
      "metadata": {
        "id": "_BgM7BY9eBbX"
      }
    },
    {
      "cell_type": "code",
      "source": [],
      "metadata": {
        "id": "FnBwCUAhd4-I"
      },
      "execution_count": null,
      "outputs": []
    }
  ]
}