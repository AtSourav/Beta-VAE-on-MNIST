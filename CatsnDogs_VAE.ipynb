{
  "nbformat": 4,
  "nbformat_minor": 0,
  "metadata": {
    "colab": {
      "provenance": [],
      "authorship_tag": "ABX9TyMoHnOfzW+mqlyfXAvZu9U5",
      "include_colab_link": true
    },
    "kernelspec": {
      "name": "python3",
      "display_name": "Python 3"
    },
    "language_info": {
      "name": "python"
    }
  },
  "cells": [
    {
      "cell_type": "markdown",
      "metadata": {
        "id": "view-in-github",
        "colab_type": "text"
      },
      "source": [
        "<a href=\"https://colab.research.google.com/github/AtSourav/CatsnDogs_VAE/blob/main/CatsnDogs_VAE.ipynb\" target=\"_parent\"><img src=\"https://colab.research.google.com/assets/colab-badge.svg\" alt=\"Open In Colab\"/></a>"
      ]
    },
    {
      "cell_type": "markdown",
      "source": [
        "We're going to build a VAE in keras with the encoder and decoder based on CNNs."
      ],
      "metadata": {
        "id": "4ur1bU8y1uHM"
      }
    },
    {
      "cell_type": "code",
      "execution_count": 1,
      "metadata": {
        "id": "uoG7iO2skKtn"
      },
      "outputs": [],
      "source": [
        "import numpy as np\n",
        "import tensorflow as tf\n",
        "from tensorflow import keras\n",
        "from tensorflow.keras import layers"
      ]
    },
    {
      "cell_type": "code",
      "source": [
        "input_size = (160,160,3)\n",
        "batch_size = 256\n",
        "latent_dim = 64"
      ],
      "metadata": {
        "id": "Rc8U_BGj2L9P"
      },
      "execution_count": 1,
      "outputs": []
    },
    {
      "cell_type": "code",
      "source": [
        "encoder_input = keras.Inputs(shape=input_size)\n",
        "\n",
        "x = layers.Conv2D(32, 3, activation=\"relu\", padding=\"valid\")(encoder_inputs)\n",
        "x = layers.MaxPooling2D(pool_size=(2, 2), strides=None, padding=\"valid\")    # with strides=None this defaults to pool_size\n",
        "x = layers.BatchNormalization(axis=-1) # the default data_format in the conv2d is \"channels last\", we want to normalize across the channels, hence we set axis=-1\n",
        "\n",
        "x = layers.Conv2D(64, 3, activation=\"relu\", padding=\"valid\")(x)\n",
        "x = layers.MaxPooling2D(pool_size=(2, 2), strides=None, padding=\"valid\")\n",
        "x = layers.BatchNormalization(axis=-1)\n",
        "\n",
        "x = layers.Conv2D(128, 3, activation=\"relu\", padding=\"valid\")(x)\n",
        "x = layers.MaxPooling2D(pool_size=(2, 2), strides=None, padding=\"valid\")\n",
        "x = layers.BatchNormalization(axis=-1)\n",
        "\n",
        "x = layers.Conv2D(256, 3, activation=\"relu\", padding=\"valid\")(x)\n",
        "x = layers.MaxPooling2D(pool_size=(2, 2), strides=None, padding=\"valid\")\n",
        "x = layers.BatchNormalization(axis=-1)\n",
        "\n",
        "x = layers.Flatten()(x)       # dimension of vector produced 9*256\n",
        "\n",
        "# we won't add any extra dense layers for now\n",
        "\n",
        "z_mean = layers.Dense(latent_dim, name=\"z_mean\")(x)\n",
        "z_log_var = layers.Dense(latent_dim, name=\"z_log_var\")(x)"
      ],
      "metadata": {
        "id": "RaWmRig39WZE"
      },
      "execution_count": null,
      "outputs": []
    }
  ]
}